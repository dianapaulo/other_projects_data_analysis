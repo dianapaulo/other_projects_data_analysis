{
 "cells": [
  {
   "cell_type": "markdown",
   "id": "d8b9ae98",
   "metadata": {},
   "source": [
    "1.Read the data from the spreadsheet\n",
    "2.Collect all of the sales from each month into a single list\n",
    "3.Output the total sales across all months"
   ]
  },
  {
   "cell_type": "markdown",
   "id": "b9f74ce5",
   "metadata": {},
   "source": [
    "# Method 1"
   ]
  },
  {
   "cell_type": "code",
   "execution_count": 29,
   "id": "35b563d9",
   "metadata": {},
   "outputs": [],
   "source": [
    "#1.Read the data from the spreadsheet\n",
    "import csv\n",
    "read_data = open('sales.csv', 'r')\n",
    "from csv import DictReader\n",
    "spreadsheet = DictReader(read_data)\n",
    "data = []\n",
    "for row in spreadsheet:\n",
    "    data.append(row)\n"
   ]
  },
  {
   "cell_type": "code",
   "execution_count": 30,
   "id": "7f14dc4c",
   "metadata": {},
   "outputs": [
    {
     "name": "stdout",
     "output_type": "stream",
     "text": [
      "MONTH SALES\n",
      "JAN 6226\n",
      "FEB 1521\n",
      "MAR 1842\n",
      "APR 2051\n",
      "MAY 1728\n",
      "JUN 2138\n",
      "JUL 7479\n",
      "AUG 4434\n",
      "SEP 3615\n",
      "OCT 5472\n",
      "NOV 7224\n",
      "DEC 1812\n"
     ]
    }
   ],
   "source": [
    "#2.output all the months and sales\n",
    "with open('sales.csv', 'r') as sales_csv:\n",
    "    readCSV = csv.reader(sales_csv, delimiter=',')\n",
    "    for row in readCSV:\n",
    "        print(row[1].upper(), row[2].upper())\n",
    "        #print(\"\\n\")\n"
   ]
  },
  {
   "cell_type": "code",
   "execution_count": 31,
   "id": "f76cc79a",
   "metadata": {},
   "outputs": [
    {
     "name": "stdout",
     "output_type": "stream",
     "text": [
      "Total sales: 45542\n"
     ]
    }
   ],
   "source": [
    "#3.Output the total sales across all months shorter code using list comprehension\n",
    "total = sum(int(row['sales'])for row in data)\n",
    "print('Total sales: {}'.format(total))"
   ]
  },
  {
   "cell_type": "code",
   "execution_count": 32,
   "id": "15320a3b",
   "metadata": {},
   "outputs": [
    {
     "name": "stdout",
     "output_type": "stream",
     "text": [
      "Total sales: 45,542\n"
     ]
    }
   ],
   "source": [
    "#using comma on integers\n",
    "totalSales = (format(total,',d'))\n",
    "print(\"Total sales: \" + str(totalSales))"
   ]
  },
  {
   "cell_type": "markdown",
   "id": "ea0ea0d0",
   "metadata": {},
   "source": [
    "# Method 2"
   ]
  },
  {
   "cell_type": "code",
   "execution_count": 33,
   "id": "654164d1",
   "metadata": {},
   "outputs": [],
   "source": [
    "# Open the sales.csv file in read mode\n",
    "import csv\n",
    "with open('sales.csv', 'r') as csvfile:\n",
    "    # Create a reader object to read the data\n",
    "    reader = csv.reader(csvfile)\n",
    "    next(reader)\n",
    "    # Create an empty list to store the sales data\n",
    "    sales_data = []\n",
    "    # Loop through each row in the file\n",
    "    for row in reader:\n",
    "        # Append the sales data from the row to the list\n",
    "        sales_data.append(row[2])\n"
   ]
  },
  {
   "cell_type": "code",
   "execution_count": 34,
   "id": "4a135063",
   "metadata": {},
   "outputs": [
    {
     "name": "stdout",
     "output_type": "stream",
     "text": [
      "Total sales: 45542.0\n"
     ]
    }
   ],
   "source": [
    "# Set the initial total sales to 0\n",
    "total_sales = 0\n",
    "\n",
    "# Loop through the sales data\n",
    "for sale in sales_data:\n",
    "    # Convert the sale to a float and add it to the total\n",
    "    total_sales += float(sale)\n",
    "\n",
    "# Print the total sales\n",
    "print(f'Total sales: {total_sales}')\n"
   ]
  },
  {
   "cell_type": "markdown",
   "id": "de1a2bef",
   "metadata": {},
   "source": [
    "# Method 3"
   ]
  },
  {
   "cell_type": "code",
   "execution_count": 35,
   "id": "0352cbc8",
   "metadata": {},
   "outputs": [],
   "source": [
    "#sample code from the project guide\n",
    "import csv\n",
    "\n",
    "# define a function to read data\n",
    "def read_data():\n",
    "    data = []\n",
    "    with open('sales.csv', 'r') as sales_csv:\n",
    "        spreadsheet = csv.DictReader(sales_csv)\n",
    "        for row in spreadsheet:\n",
    "            data.append(row)\n",
    "        return data"
   ]
  },
  {
   "cell_type": "code",
   "execution_count": 36,
   "id": "f34b28fa",
   "metadata": {},
   "outputs": [
    {
     "name": "stdout",
     "output_type": "stream",
     "text": [
      "Total sales: 45542\n"
     ]
    }
   ],
   "source": [
    "# A function to run the code\n",
    "def run():\n",
    "    \n",
    "    data = read_data()\n",
    "    sales = []\n",
    "    for row in data:\n",
    "        sale = int(row['sales'])\n",
    "        sales.append(sale)\n",
    "        total = sum(sales)\n",
    "    \n",
    "    \n",
    "    print('Total sales: {}'.format(total))\n",
    "    \n",
    "run()"
   ]
  }
 ],
 "metadata": {
  "kernelspec": {
   "display_name": "Python 3 (ipykernel)",
   "language": "python",
   "name": "python3"
  },
  "language_info": {
   "codemirror_mode": {
    "name": "ipython",
    "version": 3
   },
   "file_extension": ".py",
   "mimetype": "text/x-python",
   "name": "python",
   "nbconvert_exporter": "python",
   "pygments_lexer": "ipython3",
   "version": "3.9.12"
  }
 },
 "nbformat": 4,
 "nbformat_minor": 5
}
